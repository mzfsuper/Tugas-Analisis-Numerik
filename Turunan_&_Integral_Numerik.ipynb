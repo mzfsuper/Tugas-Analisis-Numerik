{
  "nbformat": 4,
  "nbformat_minor": 0,
  "metadata": {
    "colab": {
      "provenance": [],
      "collapsed_sections": [
        "M0m3v-uD2S49",
        "eknwXksS2NUk"
      ]
    },
    "kernelspec": {
      "name": "python3",
      "display_name": "Python 3"
    },
    "language_info": {
      "name": "python"
    }
  },
  "cells": [
    {
      "cell_type": "markdown",
      "source": [
        "Definisikan Fungsi dan titik x yang ingin dicari"
      ],
      "metadata": {
        "id": "j0Y8dkq6ydhr"
      }
    },
    {
      "cell_type": "code",
      "source": [
        "def function(x):\n",
        "  return 5*x**4 - 2*x**3 + 7*x + 3\n",
        "x = 1.5\n",
        "\n"
      ],
      "metadata": {
        "id": "5fbne23lrPmx"
      },
      "execution_count": null,
      "outputs": []
    },
    {
      "cell_type": "markdown",
      "source": [
        "## Turunan Numerik"
      ],
      "metadata": {
        "id": "M0m3v-uD2S49"
      }
    },
    {
      "cell_type": "markdown",
      "source": [
        "Turunan Pertama\n",
        "\n"
      ],
      "metadata": {
        "id": "UHhMcs7myNRj"
      }
    },
    {
      "cell_type": "code",
      "source": [
        "h = 0.01"
      ],
      "metadata": {
        "id": "a6B2NmOir0J9"
      },
      "execution_count": null,
      "outputs": []
    },
    {
      "cell_type": "code",
      "source": [
        "def f1f(f, x, h):\n",
        "  return (f(x + h) - f(x)) / h\n",
        "\n",
        "def f1b(f, x, h):\n",
        "  return (f(x) - f(x - h)) / h\n",
        "\n",
        "def f1c(f, x, h):\n",
        "  return (f(x + h) - f(x - h)) / (2*h)"
      ],
      "metadata": {
        "id": "451JwliZr76h"
      },
      "execution_count": null,
      "outputs": []
    },
    {
      "cell_type": "code",
      "source": [
        "d1f = f1f(function, x, h)\n",
        "print(d1f)\n",
        "\n",
        "d1b = f1b(function, x, h)\n",
        "print(d1b)\n",
        "\n",
        "d1c = f1c(function, x, h)\n",
        "print(d1c)"
      ],
      "metadata": {
        "colab": {
          "base_uri": "https://localhost:8080/"
        },
        "id": "FQaJQoYeyaEy",
        "outputId": "2eb07705-119f-48e6-fc8c-1e089c734ade"
      },
      "execution_count": null,
      "outputs": [
        {
          "output_type": "stream",
          "name": "stdout",
          "text": [
            "61.58780499999992\n",
            "60.41779500000004\n",
            "61.00279999999998\n"
          ]
        }
      ]
    },
    {
      "cell_type": "markdown",
      "source": [
        "Turunan Kedua"
      ],
      "metadata": {
        "id": "SKpzM9lFyovj"
      }
    },
    {
      "cell_type": "code",
      "source": [
        "def f2f(f, x, h):\n",
        "  return (f(x + 2*h) - 2*f(x + h) + f(x)) / (h**2)\n",
        "def f2b(f, x, h):\n",
        "  return (f(x) - 2*f(x - h) + f(x - 2*h)) / (h**2)\n",
        "def f2c(f, x, h):\n",
        "  return (f(x + h) - 2*f(x) + f(x - h)) / (2*h**2)"
      ],
      "metadata": {
        "id": "5wsCUHfGuGTC"
      },
      "execution_count": null,
      "outputs": []
    },
    {
      "cell_type": "code",
      "source": [
        "d2f = f2f(function, x, h)\n",
        "print(f\"turunan ke dua secara maju dari f di x = {x} adalah {d2f}\")\n",
        "\n",
        "d2b = f2f(function, x, h)\n",
        "print(f\"turunan ke dua secara mundur dari f di x = {x} adalah {d2b}\")\n",
        "\n",
        "d2c = f2f(function, x, h)\n",
        "print(f\"turunan ke dua secara pusat dari f di x = {x} adalah {d2c}\")"
      ],
      "metadata": {
        "colab": {
          "base_uri": "https://localhost:8080/"
        },
        "id": "n_S8BzgxvTxZ",
        "outputId": "48c2e780-e0f2-4a3f-ba96-794abc4ac534"
      },
      "execution_count": null,
      "outputs": [
        {
          "output_type": "stream",
          "name": "stdout",
          "text": [
            "turunan ke dua secara maju dari f di x = 1.5 adalah 118.68700000000842\n",
            "turunan ke dua secara mundur dari f di x = 1.5 adalah 118.68700000000842\n",
            "turunan ke dua secara pusat dari f di x = 1.5 adalah 118.68700000000842\n"
          ]
        }
      ]
    },
    {
      "cell_type": "markdown",
      "source": [
        "Turunan ketiga"
      ],
      "metadata": {
        "id": "gcEzbC7jzrE7"
      }
    },
    {
      "cell_type": "code",
      "source": [
        "def f3f(f, x, h):\n",
        "  return (f(x + 3*h) - 3*f(x + 2*h) + 3*f(x + h) - f(x)) / (h**3)\n",
        "def f3b(f, x, h):\n",
        "  return (f(x) - 3*f(x - h) + 3*f(x - 2*h) - f(x - 3*h)) / (h**3)\n",
        "def f3c(f, x, h):\n",
        "  return (f(x + 2*h) - 2*f(x + h) + 2*f(x - h) - f(x - 2*h)) / (2*h**3)"
      ],
      "metadata": {
        "id": "5NODedTMvbdJ"
      },
      "execution_count": null,
      "outputs": []
    },
    {
      "cell_type": "code",
      "source": [
        "d3f = f3f(function, x, h)\n",
        "print(f\"turunan ketiga secara maju dari f di x = {x} adalah {d3f}\")\n",
        "\n",
        "d3b = f3f(function, x, h)\n",
        "print(f\"turunan ketiga secara mundur dari f di x = {x} adalah {d3b}\")\n",
        "\n",
        "d3c = f3f(function, x, h)\n",
        "print(f\"turunan ketiga secara pusat dari f di x = {x} adalah {d3c}\")"
      ],
      "metadata": {
        "colab": {
          "base_uri": "https://localhost:8080/"
        },
        "id": "Bpy7y1Av0bbL",
        "outputId": "0fc1e62c-6fe7-4d83-dce8-1d6a21816f96"
      },
      "execution_count": null,
      "outputs": [
        {
          "output_type": "stream",
          "name": "stdout",
          "text": [
            "turunan ketiga secara maju dari f di x = 1.5 adalah 169.8000000089905\n",
            "turunan ketiga secara mundur dari f di x = 1.5 adalah 169.8000000089905\n",
            "turunan ketiga secara pusat dari f di x = 1.5 adalah 169.8000000089905\n"
          ]
        }
      ]
    },
    {
      "cell_type": "markdown",
      "source": [
        "## Integral Numerik"
      ],
      "metadata": {
        "id": "eknwXksS2NUk"
      }
    },
    {
      "cell_type": "markdown",
      "source": [
        "Jumlah Kanan"
      ],
      "metadata": {
        "id": "x7dvFH1g2YRc"
      }
    },
    {
      "cell_type": "code",
      "source": [
        "def right_sum(f, a, b, n):\n",
        "  h = (b - a) / n\n",
        "  sum = 0\n",
        "  for i in range(n):\n",
        "    sum += f(a + (i)*h)\n",
        "  return sum * h"
      ],
      "metadata": {
        "id": "2t_ixWwQ06FL"
      },
      "execution_count": null,
      "outputs": []
    },
    {
      "cell_type": "code",
      "source": [
        "a = 0\n",
        "b = 1\n",
        "n = 100\n",
        "ika = right_sum(function, a, b, n)\n",
        "print(f\"Integral dari fungsi dengan jumlah kanan dari x = {a} sampai x = {b} sebanyak {n} partisi adalah {ika}\")"
      ],
      "metadata": {
        "colab": {
          "base_uri": "https://localhost:8080/"
        },
        "id": "ou9fKoVH2uJl",
        "outputId": "2040c53f-4aeb-44cd-dfb5-69ccccaa43a0"
      },
      "execution_count": null,
      "outputs": [
        {
          "output_type": "stream",
          "name": "stdout",
          "text": [
            "Integral dari fungsi dengan jumlah kanan dari x = 0 sampai x = 1 sebanyak 100 partisi adalah 6.950116665\n"
          ]
        }
      ]
    },
    {
      "cell_type": "markdown",
      "source": [
        "Jumlah Kiri"
      ],
      "metadata": {
        "id": "nGuBiW1d3a-0"
      }
    },
    {
      "cell_type": "code",
      "source": [
        "def left_sum(f, a, b, n):\n",
        "  h = (b - a) / n\n",
        "  sum = 0\n",
        "  for i in range(n):\n",
        "    sum += f(a + (i - 1)*h)\n",
        "  return sum * h"
      ],
      "metadata": {
        "id": "SLwz3yql3BSc"
      },
      "execution_count": null,
      "outputs": []
    },
    {
      "cell_type": "code",
      "source": [
        "iki = left_sum(function, a, b, n)\n",
        "print(f\"Integral dari fungsi dengan jumlah kanan dari x = {a} sampai x = {b} sebanyak {n} partisi adalah {iki}\")"
      ],
      "metadata": {
        "colab": {
          "base_uri": "https://localhost:8080/"
        },
        "id": "wa0IcfAm3t-M",
        "outputId": "9a0c28c2-9d45-45ce-aec8-3cdc2e101770"
      },
      "execution_count": null,
      "outputs": [
        {
          "output_type": "stream",
          "name": "stdout",
          "text": [
            "Integral dari fungsi dengan jumlah kanan dari x = 0 sampai x = 1 sebanyak 100 partisi adalah 6.851492865000002\n"
          ]
        }
      ]
    },
    {
      "cell_type": "markdown",
      "source": [
        "Midpoint rule"
      ],
      "metadata": {
        "id": "jGbOU5ue6xef"
      }
    },
    {
      "cell_type": "code",
      "source": [
        "def midpoint_sum(f, a, b, n):\n",
        "  h = (b - a) / n\n",
        "  sum = 0\n",
        "  for i in range(n):\n",
        "    sum += f(a + i*h - h/2)\n",
        "  return sum * h"
      ],
      "metadata": {
        "id": "7QVGzmJI3vmU"
      },
      "execution_count": null,
      "outputs": []
    },
    {
      "cell_type": "code",
      "source": [
        "it = midpoint_sum(function, a, b, n)\n",
        "print(f\"Integral dari fungsi dengan aturan titik tengah dari x = {a} sampai x = {b} sebanyak {n} partisi adalah {it}\")"
      ],
      "metadata": {
        "colab": {
          "base_uri": "https://localhost:8080/"
        },
        "id": "Wr8CYSUU5dRV",
        "outputId": "69534cb1-afdd-49df-ba57-3115b3a521f0"
      },
      "execution_count": null,
      "outputs": [
        {
          "output_type": "stream",
          "name": "stdout",
          "text": [
            "Integral dari fungsi dengan aturan titik tengah dari x = 0 sampai x = 1 sebanyak 100 partisi adalah 6.9006356931249995\n"
          ]
        }
      ]
    },
    {
      "cell_type": "markdown",
      "source": [
        "Trapezoidal rule"
      ],
      "metadata": {
        "id": "zqjpdcyF6z1u"
      }
    },
    {
      "cell_type": "code",
      "source": [
        "def trapezoidal_sum(f, a, b, n):\n",
        "  h = (b - a) / n\n",
        "  sum = 0\n",
        "  for i in range(n):\n",
        "    sum +=  f(a + i*h)\n",
        "  return (f(a) + 2*sum + f(b)) * (h/2)"
      ],
      "metadata": {
        "id": "q0T5KRAr4zUl"
      },
      "execution_count": null,
      "outputs": []
    },
    {
      "cell_type": "code",
      "source": [
        "tr = trapezoidal_sum(function, a, b, n)\n",
        "print(f\"Integral dari fungsi dengan aturan trapezoidal dari x = {a} sampai x = {b} sebanyak {n} partisi adalah {tr}\")"
      ],
      "metadata": {
        "colab": {
          "base_uri": "https://localhost:8080/"
        },
        "id": "dRHEL58J6LR_",
        "outputId": "f4de3b81-6b4c-479a-fb00-98978a742513"
      },
      "execution_count": null,
      "outputs": [
        {
          "output_type": "stream",
          "name": "stdout",
          "text": [
            "Integral dari fungsi dengan aturan trapezoidal dari x = 0 sampai x = 1 sebanyak 100 partisi adalah 7.030116665\n"
          ]
        }
      ]
    },
    {
      "cell_type": "markdown",
      "source": [
        "Simpson 1/3"
      ],
      "metadata": {
        "id": "u3EUd-ES6-n2"
      }
    },
    {
      "cell_type": "code",
      "source": [
        "def simpson3_sum(f, a, b):\n",
        "  h = (b - a) / 2\n",
        "  return (f(a) + 4*f(h) + f(b)) * (h/3)"
      ],
      "metadata": {
        "id": "R5789nES6O8F"
      },
      "execution_count": null,
      "outputs": []
    },
    {
      "cell_type": "code",
      "source": [
        "sp3 = simpson3_sum(function, a, b)\n",
        "print(f\"Integral dari fungsi dengan aturan simpson 1/3 dari x = {a} sampai x = {b} sebanyak {n} partisi adalah {sp3}\")"
      ],
      "metadata": {
        "colab": {
          "base_uri": "https://localhost:8080/"
        },
        "id": "vFu8bRpU7mtY",
        "outputId": "4f354817-16f6-40a0-bd56-c31f8273d34a"
      },
      "execution_count": null,
      "outputs": [
        {
          "output_type": "stream",
          "name": "stdout",
          "text": [
            "Integral dari fungsi dengan aturan simpson 1/3 dari x = 0 sampai x = 1 sebanyak 100 partisi adalah 7.041666666666666\n"
          ]
        }
      ]
    },
    {
      "cell_type": "markdown",
      "source": [
        "Simpson 3/8"
      ],
      "metadata": {
        "id": "x_kXIVOs7-S_"
      }
    },
    {
      "cell_type": "code",
      "source": [
        "def simpson8_sum(f, a, b):\n",
        "  h = (b - a) / 3\n",
        "  return (f(a) + 3*f(h) + 3*f(2*h) + f(b)) * (3*h/8)"
      ],
      "metadata": {
        "id": "_2GWUZr378ZG"
      },
      "execution_count": null,
      "outputs": []
    },
    {
      "cell_type": "code",
      "source": [
        "sp8 = simpson8_sum(function, a, b)\n",
        "print(f\"Integral dari fungsi dengan aturan simpson 3/8 dari x = {a} sampai x = {b} sebanyak {n} partisi adalah {sp8}\")"
      ],
      "metadata": {
        "colab": {
          "base_uri": "https://localhost:8080/"
        },
        "id": "dxR0hMo19Jv_",
        "outputId": "a9942f09-c25e-4f4c-c8fb-20fab48b8660"
      },
      "execution_count": null,
      "outputs": [
        {
          "output_type": "stream",
          "name": "stdout",
          "text": [
            "Integral dari fungsi dengan aturan simpson 3/8 dari x = 0 sampai x = 1 sebanyak 100 partisi adalah 7.018518518518518\n"
          ]
        }
      ]
    }
  ]
}